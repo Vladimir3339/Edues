{
 "cells": [
  {
   "cell_type": "markdown",
   "metadata": {},
   "source": [
    "# Работа с API YandexGPT"
   ]
  },
  {
   "cell_type": "code",
   "execution_count": 1,
   "metadata": {},
   "outputs": [],
   "source": [
    "import requests\n",
    "import json\n",
    "import time"
   ]
  },
  {
   "cell_type": "markdown",
   "metadata": {},
   "source": [
    "Для работы с API YandexGPT необходим API-ключ для сервисного аккаунта Яндекс.Облака с ролями 'ai.languageModels.user' и 'ai.imageGeneration.user'.\n",
    "\n",
    "Подробнее о создании API-ключа: https://yandex.cloud/ru/docs/iam/concepts/authorization/api-key"
   ]
  },
  {
   "cell_type": "code",
   "execution_count": 2,
   "metadata": {},
   "outputs": [],
   "source": [
    "yandex_cloud_catalog = \"b1glihj9h7pkj7mnd6at\"\n",
    "yandex_api_key = \"AQVNyJRotHlHIhGec5YfWrslmo8tsbsc8eatOf_V\""
   ]
  },
  {
   "cell_type": "markdown",
   "metadata": {},
   "source": [
    "Варианты модели:\n",
    "- yandexgpt-lite\n",
    "- yandexgpt\n",
    "- summarization (для суммарищации текстов)"
   ]
  },
  {
   "cell_type": "code",
   "execution_count": 21,
   "metadata": {},
   "outputs": [],
   "source": [
    "yandex_gpt_model = \"yandexgpt\""
   ]
  },
  {
   "cell_type": "markdown",
   "metadata": {},
   "source": [
    "Структура промта:\n",
    "- Общая инструкция (Ты ...)\n",
    "- Запрос (Напиши ...)\n",
    "- Контекст (Текст)\n",
    "- Формат ответа\n",
    "\n",
    "Параметры генерации\n",
    "- temperature: чем выше значение этого параметра, тем более креативными и случайными будут ответы модели. Принимает значения от 0 до 1"
   ]
  },
  {
   "cell_type": "code",
   "execution_count": 24,
   "metadata": {},
   "outputs": [],
   "source": [
    "temperature = 0.7\n",
    "prompt = \"Ты seniour программист. Напиши самую креативную, но работающую программу на python полностью. В ответе напиши программу и какую задачу она выполняет.\""
   ]
  },
  {
   "cell_type": "code",
   "execution_count": 25,
   "metadata": {},
   "outputs": [
    {
     "name": "stdout",
     "output_type": "stream",
     "text": [
      "Вот программа, которая генерирует случайную мелодию, используя заметки из одной октавы. Вы можете ввести количество нот и их длительность, и программа постарается создать приятную мелодию.\n",
      "\n",
      "Задача программы — синтезировать мелодию на основе введённых данных о нотах и их длительности. Это может быть полезно для тех, кто хочет создать свою собственную мелодию или просто развлечься.\n",
      "\n",
      "Код программы:\n",
      "```\n",
      "import random\n",
      "\n",
      "notes = [\"до\", \"ре\", \"ми\", \"фа\", \"соль\", \"ля\", \"си\"]\n",
      "durations = [1, 2, 4, 8]\n",
      "\n",
      "def generate_melody(number_of_notes, duration):\n",
      "    for i in range(number_of_notes):\n",
      "        note = random.choice(notes)\n",
      "        duration_value = random.choice(durations)\n",
      "        print(f\"{note} ({duration_value})\")\n",
      "        sleep(duration)\n",
      "\n",
      "if __name__ == '__main__':\n",
      "    number_of_notes = int(input(\"Введите количество нот: \"))\n",
      "    duration = int(input(\"Укажите длительность в секундах: \"))\n",
      "\n",
      "    generate_melody(number_of_notes=number_of_notes, duration=duration)\n",
      "```\n",
      "Обратите внимание, что эта программа не предназначена для создания профессиональных мелодий. Вместо этого она предоставляет интересный способ экспериментирования с нотами и длительностями. Вы можете настроить её под свои нужды, добавив дополнительные функции и возможности.\n",
      "\n",
      "*Поскольку я являюсь текстовым ИИ-ассистентом, я не смогу предоставить код, который воспроизводит созданную мелодию аудио- или видеоформатах. Для этого вам потребуется использовать другие программы или сервисы.*\n"
     ]
    }
   ],
   "source": [
    "body = {\n",
    "    \"modelUri\": f\"gpt://{yandex_cloud_catalog}/{yandex_gpt_model}\",\n",
    "    \"completionOptions\": {\n",
    "        \"stream\": False,\n",
    "        \"temperature\": temperature,\n",
    "        \"maxTokens\": \"5000\",\n",
    "    },\n",
    "    \"messages\": [{\"role\": \"user\", \"text\": prompt}],\n",
    "}\n",
    "\n",
    "url = \"https://llm.api.cloud.yandex.net/foundationModels/v1/completion\"\n",
    "headers = {\n",
    "    \"Content-Type\": \"application/json\",\n",
    "    \"Authorization\": f\"Api-Key {yandex_api_key}\",\n",
    "}\n",
    "\n",
    "response = requests.post(url, headers=headers, json=body)\n",
    "response_json = json.loads(response.text)\n",
    "answer = response_json[\"result\"][\"alternatives\"][0][\"message\"][\"text\"]\n",
    "print(answer)"
   ]
  },
  {
   "cell_type": "markdown",
   "metadata": {},
   "source": [
    "### Добавления системного промпта"
   ]
  },
  {
   "cell_type": "code",
   "execution_count": 15,
   "metadata": {},
   "outputs": [],
   "source": [
    "system_prompt = \"Исправь ошибки в тексте. В ответе напиши только исправленный текст.\"\n",
    "prompt = \"Сабака гуляет по трове а люди набблюдают\""
   ]
  },
  {
   "cell_type": "code",
   "execution_count": 16,
   "metadata": {},
   "outputs": [
    {
     "name": "stdout",
     "output_type": "stream",
     "text": [
      "Собака гуляет по траве, а люди наблюдают.\n"
     ]
    }
   ],
   "source": [
    "import requests\n",
    "import json\n",
    "\n",
    "body = {\n",
    "    \"modelUri\": f\"gpt://{yandex_cloud_catalog}/{yandex_gpt_model}\",\n",
    "    \"completionOptions\": {\"stream\": False, \"temperature\": 0, \"maxTokens\": \"2000\"},\n",
    "    \"messages\": [\n",
    "        {\"role\": \"system\", \"text\": system_prompt},\n",
    "        {\"role\": \"user\", \"text\": prompt},\n",
    "    ],\n",
    "}\n",
    "\n",
    "url = \"https://llm.api.cloud.yandex.net/foundationModels/v1/completion\"\n",
    "headers = {\n",
    "    \"Content-Type\": \"application/json\",\n",
    "    \"Authorization\": f\"Api-Key {yandex_api_key}\",\n",
    "    \"x-folder-id\": yandex_cloud_catalog,\n",
    "}\n",
    "\n",
    "response = requests.post(url, headers=headers, json=body)\n",
    "response_json = json.loads(response.text)\n",
    "answer = response_json[\"result\"][\"alternatives\"][0][\"message\"][\"text\"]\n",
    "print(answer)"
   ]
  },
  {
   "cell_type": "markdown",
   "metadata": {},
   "source": [
    "### Работа в асинхронном режиме\n",
    "\n",
    "Выполнение запроса на генерацию текста в асинхронном режиме. Генерация может выполняться несколько секунд. В результате выполнения запроса получаем operation_id, с помощью которого можно получать результат, выполнив отдельный запрос"
   ]
  },
  {
   "cell_type": "code",
   "execution_count": 17,
   "metadata": {},
   "outputs": [
    {
     "name": "stdout",
     "output_type": "stream",
     "text": [
      "{'id': 'd7q3sfv78c22vkr181d1', 'description': 'Async GPT Completion', 'createdAt': '2024-04-14T12:19:02Z', 'createdBy': 'aje4pspgk8umd6h29st2', 'modifiedAt': '2024-04-14T12:19:02Z', 'done': False, 'metadata': None}\n"
     ]
    }
   ],
   "source": [
    "body = {\n",
    "    \"modelUri\": f\"gpt://{yandex_cloud_catalog}/{yandex_gpt_model}\",\n",
    "    \"completionOptions\": {\"stream\": False, \"temperature\": 0, \"maxTokens\": \"2000\"},\n",
    "    \"messages\": [\n",
    "        {\"role\": \"system\", \"text\": system_prompt},\n",
    "        {\"role\": \"user\", \"text\": prompt},\n",
    "    ],\n",
    "}\n",
    "\n",
    "url = \"https://llm.api.cloud.yandex.net/foundationModels/v1/completionAsync\"\n",
    "headers = {\n",
    "    \"Content-Type\": \"application/json\",\n",
    "    \"Authorization\": f\"Api-Key {yandex_api_key}\",\n",
    "    \"x-folder-id\": yandex_cloud_catalog,\n",
    "}\n",
    "\n",
    "response = requests.post(url, headers=headers, json=body)\n",
    "response_json = json.loads(response.text)\n",
    "print(response_json)\n",
    "operation_id = response_json[\"id\"]"
   ]
  },
  {
   "cell_type": "markdown",
   "metadata": {},
   "source": [
    "Необходимо дождаться выполнения генерации"
   ]
  },
  {
   "cell_type": "code",
   "execution_count": 18,
   "metadata": {},
   "outputs": [
    {
     "name": "stdout",
     "output_type": "stream",
     "text": [
      "Собака гуляет по траве, а люди наблюдают.\n"
     ]
    }
   ],
   "source": [
    "url = f\"https://llm.api.cloud.yandex.net/operations/{operation_id}\"\n",
    "headers = {\"Authorization\": f\"Api-Key {yandex_api_key}\"}\n",
    "\n",
    "while True:\n",
    "    response = requests.get(url, headers=headers)\n",
    "    response_json = json.loads(response.text)\n",
    "    done = response_json[\"done\"]\n",
    "    if done:\n",
    "        break\n",
    "    else:\n",
    "        time.sleep(0.5)\n",
    "\n",
    "answer = response_json[\"response\"][\"alternatives\"][0][\"message\"][\"text\"]\n",
    "print(answer)"
   ]
  }
 ],
 "metadata": {
  "kernelspec": {
   "display_name": "Python 3",
   "language": "python",
   "name": "python3"
  },
  "language_info": {
   "codemirror_mode": {
    "name": "ipython",
    "version": 3
   },
   "file_extension": ".py",
   "mimetype": "text/x-python",
   "name": "python",
   "nbconvert_exporter": "python",
   "pygments_lexer": "ipython3",
   "version": "3.11.3"
  }
 },
 "nbformat": 4,
 "nbformat_minor": 2
}
