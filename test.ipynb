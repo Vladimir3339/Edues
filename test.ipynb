{
 "cells": [
  {
   "cell_type": "code",
   "execution_count": 7,
   "metadata": {},
   "outputs": [
    {
     "name": "stdout",
     "output_type": "stream",
     "text": [
      "Соня переводит ему сумму, чтобы помочь похоронам и отдать долг\n",
      "Раскольников отправляется к семье прятать драгоценности старухи\n",
      "В последние пять лет он осуществлял ненасильственные хищения\n",
      "Свидригайлов зовёт Соню поблагодарить Раскольникова за визит\n",
      "Он шпионил за Весленским, был вовлечён в игорную аферу Иртенова\n",
      "\n"
     ]
    }
   ],
   "source": [
    "import random\n",
    "sentence_list = [\n",
    "  \"В последние пять лет он осуществлял ненасильственные хищения\",\n",
    "  \"Он шпионил за Весленским, был вовлечён в игорную аферу Иртенова\",\n",
    "    \"Раскольников отправляется к семье прятать драгоценности старухи\",\n",
    "   \"Соня переводит ему сумму, чтобы помочь похоронам и отдать долг\", \n",
    "  \"Свидригайлов зовёт Соню поблагодарить Раскольникова за визит\", \n",
    "]\n",
    "generatedText = random.sample(sentence_list, 5)\n",
    "print(\"\\n\".join(generatedText) + \"\\n\")\n",
    "\n",
    "def generate_poem(first_word):\n",
    "    len_list_ln = len(first_list) - len(word)\n",
    "    list_obj = ['а', 'я', 'и', 'о', 'е', ..., 'ю', 'ы']\n",
    "    for p_num in range(first_w_num):\n",
    "        for m_num in len_list:\n",
    "            res_elem = first_list[len(first_elem)+m_num] + list_obj[p_num%len(list_obj)]\n",
    "            if res_elem < len(str(first_midle)) and res_elem >= ord('а'):\n",
    "                break\n",
    "        print(f\"{individual}{res_elem}\")\n",
    "        individual += \" \""
   ]
  },
  {
   "cell_type": "code",
   "execution_count": 8,
   "metadata": {},
   "outputs": [
    {
     "name": "stdout",
     "output_type": "stream",
     "text": [
      "\n",
      "              #██████   █████╗ ██╗  ██ ▐████\n",
      "             #██╔══██╝ ██╔══╝██║  ██  ░███╔╝\n",
      "             #╚██████  ███████\\╟(██  ██      ████▌\n",
      "              # ┴──╦│                 █▋      █▌▙\n",
      "                 │         ╩    ╙{|\n",
      "                 └─┐╧╨├╢\\    ═╩═           \n"
     ]
    },
    {
     "ename": "NameError",
     "evalue": "name 'num3' is not defined",
     "output_type": "error",
     "traceback": [
      "\u001b[0;31m---------------------------------------------------------------------------\u001b[0m",
      "\u001b[0;31mNameError\u001b[0m                                 Traceback (most recent call last)",
      "Cell \u001b[0;32mIn[8], line 15\u001b[0m\n\u001b[1;32m     13\u001b[0m \u001b[38;5;28;01mif\u001b[39;00m num1 \u001b[38;5;241m==\u001b[39m \u001b[38;5;241m-\u001b[39m\u001b[38;5;241m1\u001b[39m:\n\u001b[1;32m     14\u001b[0m   \u001b[38;5;28mprint\u001b[39m(\u001b[38;5;124m\"\u001b[39m\u001b[38;5;124mОшибка ввода данных\u001b[39m\u001b[38;5;124m\"\u001b[39m)\n\u001b[0;32m---> 15\u001b[0m \u001b[38;5;28mprint\u001b[39m(\u001b[38;5;124mf\u001b[39m\u001b[38;5;124m'\u001b[39m\u001b[38;5;124mПроизведение чисел \u001b[39m\u001b[38;5;132;01m{\u001b[39;00mnum1\u001b[38;5;132;01m}\u001b[39;00m\u001b[38;5;124m, и \u001b[39m\u001b[38;5;132;01m{\u001b[39;00mnum3\u001b[38;5;132;01m}\u001b[39;00m\u001b[38;5;124m равно \u001b[39m\u001b[38;5;132;01m{\u001b[39;00mproduct\u001b[38;5;132;01m}\u001b[39;00m\u001b[38;5;124m чему равно \u001b[39m\u001b[38;5;124m'\u001b[39m \u001b[38;5;241m+\u001b[39m Lan \u001b[38;5;241m+\u001b[39m \u001b[38;5;124m'\u001b[39m\u001b[38;5;124m ĉi в эсперанте\u001b[39m\u001b[38;5;124m'\u001b[39m)\n",
      "\u001b[0;31mNameError\u001b[0m: name 'num3' is not defined"
     ]
    }
   ],
   "source": [
    "# Креативный математический ккалькулятор\n",
    "print('''\n",
    "              #██████   █████╗ ██╗  ██ ▐████\n",
    "             #██╔══██╝ ██╔══╝██║  ██  ░███╔╝\n",
    "             #╚██████  ███████\\╟(██  ██      ████▌\n",
    "              # ┴──╦│                 █▋      █▌▙\n",
    "                 │         ╩    ╙{|\n",
    "                 └─┐╧╨├╢\\    ═╩═           ''')\n",
    "\n",
    "num1 = int(input(\"Введите первое число: \"))\n",
    "num2 = int(input(\"Введите второе число: \")) \n",
    "\n",
    "if num1 == -1:\n",
    "  print(\"Ошибка ввода данных\")\n",
    "print(f'Произведение чисел {num1}, и {num3} равно {product} чему равно ' + Lan + ' ĉi в эсперанте')  "
   ]
  },
  {
   "cell_type": "code",
   "execution_count": 10,
   "metadata": {},
   "outputs": [
    {
     "name": "stdout",
     "output_type": "stream",
     "text": [
      "фа (4)\n",
      "соль (1)\n",
      "ля (4)\n",
      "до (1)\n",
      "соль (2)\n",
      "до (1)\n",
      "фа (1)\n",
      "ре (8)\n",
      "си (2)\n",
      "ре (8)\n"
     ]
    }
   ],
   "source": [
    "import random\n",
    "\n",
    "notes = [\"до\", \"ре\", \"ми\", \"фа\", \"соль\", \"ля\", \"си\"]\n",
    "durations = [1, 2, 4, 8]\n",
    "\n",
    "def generate_melody(number_of_notes, duration):\n",
    "    for i in range(number_of_notes):\n",
    "        note = random.choice(notes)\n",
    "        duration_value = random.choice(durations)\n",
    "        print(f\"{note} ({duration_value})\")\n",
    "\n",
    "if __name__ == '__main__':\n",
    "    number_of_notes = int(input(\"Введите количество нот: \"))\n",
    "    duration = int(input(\"Укажите длительность в секундах: \"))\n",
    "\n",
    "    generate_melody(number_of_notes=number_of_notes, duration=duration)"
   ]
  }
 ],
 "metadata": {
  "kernelspec": {
   "display_name": "base",
   "language": "python",
   "name": "python3"
  },
  "language_info": {
   "codemirror_mode": {
    "name": "ipython",
    "version": 3
   },
   "file_extension": ".py",
   "mimetype": "text/x-python",
   "name": "python",
   "nbconvert_exporter": "python",
   "pygments_lexer": "ipython3",
   "version": "3.11.3"
  }
 },
 "nbformat": 4,
 "nbformat_minor": 2
}
